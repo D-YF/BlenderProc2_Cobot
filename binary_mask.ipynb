{
 "cells": [
  {
   "cell_type": "code",
   "execution_count": 33,
   "metadata": {},
   "outputs": [],
   "source": [
    "import json\n",
    "import numpy as np\n",
    "\n",
    "from PIL import Image\n",
    "from blenderproc.python.writer import CocoWriterUtility\n"
   ]
  },
  {
   "cell_type": "code",
   "execution_count": 12,
   "metadata": {},
   "outputs": [
    {
     "name": "stdout",
     "output_type": "stream",
     "text": [
      "{'description': 'coco_annotations', 'url': 'https://github.com/waspinator/pycococreator', 'version': '0.1.0', 'year': 2020, 'contributor': 'Unknown', 'date_created': '2023-06-07 21:17:29.057087'}\n",
      "[{'id': 1, 'name': 'Attribution-NonCommercial-ShareAlike License', 'url': 'http://creativecommons.org/licenses/by-nc-sa/2.0/'}]\n",
      "[{'id': 0, 'file_name': 'images/000000.png', 'width': 2208, 'height': 1242, 'date_captured': '2023-06-07 21:17:29.057107', 'license': 1, 'coco_url': '', 'flickr_url': ''}, {'id': 1, 'file_name': 'images/000001.png', 'width': 2208, 'height': 1242, 'date_captured': '2023-06-07 21:17:35.876753', 'license': 1, 'coco_url': '', 'flickr_url': ''}, {'id': 2, 'file_name': 'images/000002.png', 'width': 2208, 'height': 1242, 'date_captured': '2023-06-07 21:17:43.321956', 'license': 1, 'coco_url': '', 'flickr_url': ''}, {'id': 3, 'file_name': 'images/000003.png', 'width': 2208, 'height': 1242, 'date_captured': '2023-06-07 21:17:50.713615', 'license': 1, 'coco_url': '', 'flickr_url': ''}, {'id': 4, 'file_name': 'images/000004.png', 'width': 2208, 'height': 1242, 'date_captured': '2023-06-07 21:17:57.568281', 'license': 1, 'coco_url': '', 'flickr_url': ''}]\n",
      "[{'id': 1, 'image_id': 0, 'category_id': 3, 'iscrowd': 0, 'area': 1459, 'bbox': [1087, 682, 43, 48], 'segmentation': {'counts': [1350744, 7, 1234, 13, 3, 1, 1225, 21, 1221, 23, 1220, 22, 1222, 21, 1219, 23, 1220, 22, 1219, 27, 1216, 26, 1216, 28, 1212, 33, 1211, 36, 1204, 40, 1203, 40, 1202, 40, 1200, 42, 1202, 40, 1200, 41, 1202, 40, 1202, 40, 1201, 41, 1202, 40, 1200, 41, 1202, 40, 1201, 41, 1201, 41, 1202, 40, 1200, 41, 1202, 40, 1201, 41, 1202, 40, 1202, 40, 1200, 41, 1199, 43, 1199, 43, 1199, 43, 1199, 43, 1198, 44, 1202, 39, 1210, 13, 1, 4, 3, 11, 1211, 11, 13, 7, 1216, 5, 1339414], 'size': [1242, 2208]}, 'width': 2208, 'height': 1242}, {'id': 3, 'image_id': 1, 'category_id': 3, 'iscrowd': 0, 'area': 2034, 'bbox': [1239, 752, 65, 60], 'segmentation': {'counts': [1539612, 4, 1237, 7, 1234, 8, 1234, 7, 1234, 7, 1234, 10, 1231, 13, 1228, 15, 1227, 16, 1226, 17, 1224, 19, 1222, 21, 1219, 24, 1218, 25, 1216, 28, 1213, 30, 1212, 31, 1211, 32, 1210, 33, 1210, 33, 1210, 33, 1209, 34, 1208, 35, 1206, 38, 1203, 40, 1201, 42, 1200, 43, 1199, 44, 1198, 45, 1196, 51, 1191, 52, 1189, 53, 1188, 54, 1187, 54, 1187, 54, 1188, 53, 1188, 53, 1188, 54, 1187, 54, 1188, 53, 1188, 53, 1189, 52, 1190, 53, 1190, 51, 1192, 50, 1193, 48, 1195, 46, 1197, 44, 1199, 36, 1, 5, 1202, 33, 1210, 31, 1212, 30, 1213, 27, 1216, 24, 1219, 22, 1221, 20, 1223, 18, 1225, 16, 1227, 14, 1229, 13, 1231, 10, 1233, 8, 1235, 6, 1237, 4, 1239, 1, 1123233], 'size': [1242, 2208]}, 'width': 2208, 'height': 1242}, {'id': 5, 'image_id': 2, 'category_id': 3, 'iscrowd': 0, 'area': 1099, 'bbox': [1070, 343, 40, 38], 'segmentation': {'counts': [1329294, 22, 1219, 23, 1219, 23, 1219, 23, 1219, 23, 1219, 23, 1219, 23, 1219, 23, 1219, 23, 1219, 23, 1219, 23, 1219, 23, 1219, 23, 1218, 24, 1218, 25, 1216, 26, 1216, 26, 1216, 26, 1216, 26, 1216, 26, 1216, 26, 1213, 32, 1209, 34, 1208, 34, 1206, 36, 1206, 36, 1206, 36, 1206, 35, 1207, 34, 1208, 34, 1208, 34, 1208, 34, 1206, 36, 1206, 36, 1208, 35, 1207, 35, 1207, 16, 1, 1, 1, 2, 1, 1, 1, 9, 1208, 8, 17, 9, 1208, 8, 17, 9, 1208, 8, 22, 4, 1364580], 'size': [1242, 2208]}, 'width': 2208, 'height': 1242}, {'id': 7, 'image_id': 3, 'category_id': 3, 'iscrowd': 0, 'area': 1786, 'bbox': [851, 683, 49, 55], 'segmentation': {'counts': [1057636, 1, 1241, 5, 1236, 10, 1232, 14, 2, 2, 1224, 22, 1221, 23, 1221, 22, 1218, 24, 1219, 23, 1219, 23, 1217, 27, 1217, 28, 1212, 31, 1212, 31, 1211, 34, 1206, 41, 1202, 43, 1199, 44, 1196, 47, 1197, 45, 1195, 46, 1196, 46, 1197, 45, 1195, 46, 1197, 45, 1197, 45, 1195, 47, 1196, 45, 1196, 46, 1196, 46, 1197, 45, 1195, 46, 1197, 45, 1197, 45, 1195, 47, 1196, 45, 1196, 46, 1196, 46, 1193, 2, 2, 44, 1194, 48, 1193, 49, 1193, 49, 1193, 48, 1196, 46, 1200, 42, 1204, 38, 1207, 12, 3, 4, 3, 12, 1210, 10, 14, 8, 1212, 7, 17, 5, 1625049], 'size': [1242, 2208]}, 'width': 2208, 'height': 1242}, {'id': 9, 'image_id': 4, 'category_id': 3, 'iscrowd': 0, 'area': 2053, 'bbox': [1174, 653, 58, 52], 'segmentation': {'counts': [1458765, 4, 1237, 6, 1236, 6, 1236, 6, 1236, 6, 1236, 10, 1232, 15, 1226, 21, 1221, 26, 1216, 31, 12, 7, 1192, 37, 6, 7, 1192, 49, 1193, 49, 1193, 49, 1193, 49, 1192, 50, 1192, 50, 1192, 49, 1192, 50, 1192, 50, 1192, 50, 1192, 50, 1192, 49, 1194, 48, 1197, 46, 1196, 46, 1196, 46, 1196, 46, 1196, 46, 1196, 45, 1196, 46, 1196, 46, 1196, 44, 1199, 40, 1202, 39, 1203, 39, 1203, 39, 1203, 39, 1203, 39, 1203, 39, 1203, 37, 1204, 38, 1204, 37, 1205, 37, 1205, 37, 1205, 36, 1205, 37, 1205, 37, 1205, 37, 1205, 37, 1206, 36, 1206, 36, 1211, 31, 1216, 25, 1222, 20, 1227, 14, 1233, 9, 1238, 3, 1212745], 'size': [1242, 2208]}, 'width': 2208, 'height': 1242}]\n",
      "[{'id': 3, 'supercategory': 'coco_annotations', 'name': 'insert_mold'}]\n"
     ]
    }
   ],
   "source": [
    "data_path = \"/home/yangfei/clean-pvnet/data/FIT/insert_mold\"\n",
    "coco_path = data_path + \"/coco_annotations.json\"\n",
    "with open(coco_path, 'r') as file:\n",
    "    coco_anno = json.load(file)\n",
    "\n",
    "print(coco_anno['info'])\n",
    "print(coco_anno['licenses'])\n",
    "print(coco_anno['images'])\n",
    "print(coco_anno['annotations'])\n",
    "print(coco_anno['categories'])"
   ]
  },
  {
   "cell_type": "code",
   "execution_count": 37,
   "metadata": {},
   "outputs": [],
   "source": [
    "annotations = coco_anno['annotations']\n",
    "for annotation in annotations:\n",
    "    # print(annotation)\n",
    "    image_id = annotation['image_id']\n",
    "    rle = annotation['segmentation']\n",
    "    binary_mask = CocoWriterUtility.rle_to_binary_mask(rle)\n",
    "    binary_mask = np.array(binary_mask, dtype=np.uint8)*255\n",
    "    \n",
    "    mask_image = Image.fromarray(binary_mask)\n",
    "    mask_image.save(data_path+f\"/mask/{image_id}.png\")"
   ]
  }
 ],
 "metadata": {
  "kernelspec": {
   "display_name": "blender_proc",
   "language": "python",
   "name": "python3"
  },
  "language_info": {
   "codemirror_mode": {
    "name": "ipython",
    "version": 3
   },
   "file_extension": ".py",
   "mimetype": "text/x-python",
   "name": "python",
   "nbconvert_exporter": "python",
   "pygments_lexer": "ipython3",
   "version": "3.10.0"
  },
  "orig_nbformat": 4
 },
 "nbformat": 4,
 "nbformat_minor": 2
}
