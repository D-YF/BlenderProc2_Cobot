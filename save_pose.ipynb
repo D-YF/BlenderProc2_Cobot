{
 "cells": [
  {
   "cell_type": "code",
   "execution_count": 1,
   "metadata": {},
   "outputs": [],
   "source": [
    "import blenderproc as bproc\n",
    "import argparse\n",
    "import numpy as np\n",
    "import bpy\n",
    "import time\n",
    "import math\n",
    "from pathlib import Path"
   ]
  },
  {
   "cell_type": "markdown",
   "metadata": {},
   "source": [
    "## Load datas\n",
    "* Rotation matrices\n",
    "* Z offset from table surface"
   ]
  },
  {
   "cell_type": "code",
   "execution_count": 2,
   "metadata": {},
   "outputs": [
    {
     "name": "stdout",
     "output_type": "stream",
     "text": [
      "mainshell frequency dic is  {3.5: 0.94, 6.5: 0.06}\n",
      "mainshell Min Z value =  3.5\n",
      "mainshell Max Z value =  6.5 \n",
      "\n",
      "topshell frequency dic is  {4.2: 0.91, 6.5: 0.05, 6.4: 0.03, 4.6: 0.01}\n",
      "topshell Min Z value =  4.2\n",
      "topshell Max Z value =  6.5 \n",
      "\n",
      "insert_mold frequency dic is  {4.1: 0.62, 3.3: 0.33, 6.3: 0.01, 5.7: 0.02, 5.1: 0.02}\n",
      "insert_mold Min Z value =  3.3\n",
      "insert_mold Max Z value =  6.3 \n",
      "\n"
     ]
    }
   ],
   "source": [
    "classes = ['mainshell', 'topshell', 'insert_mold']\n",
    "\n",
    "R = []\n",
    "Z = []\n",
    "Z_freq = []\n",
    "for catogory in classes:\n",
    "    loaded = np.load(f\"./pose_tmp/{catogory}.npz\")\n",
    "    R_temp = loaded['Rotation']\n",
    "    Z_temp = loaded['Z_offset']\n",
    "    # remove Thickness_of_tagboard\n",
    "    # unit: mm\n",
    "    Z_temp = ((Z_temp - np.ones(shape=Z_temp.shape)*0.01) * 1000).round(1)\n",
    "    R.append(R_temp)\n",
    "    Z.append(Z_temp)\n",
    "    ## TODO(yangfei) Z_off - Thickness_of_tagboard\n",
    "\n",
    "    Z_freq_temp = {}\n",
    "    for item in Z_temp:\n",
    "        Z_freq_temp[item] = Z_freq_temp.get(item, 0) + 1\n",
    "    \n",
    "    total = sum(Z_freq_temp.values())\n",
    "    for key, value in Z_freq_temp.items():\n",
    "        Z_freq_temp[key] = round((Z_freq_temp[key] / total), 2)\n",
    "    Z_freq.append(Z_freq_temp)\n",
    "    \n",
    "    print(f\"{catogory} frequency dic is \", Z_freq[-1])\n",
    "    print(f\"{catogory} Min Z value = \", Z_temp.min())\n",
    "    print(f\"{catogory} Max Z value = \", Z_temp.max(), '\\n')\n"
   ]
  },
  {
   "cell_type": "markdown",
   "metadata": {},
   "source": [
    "## Z_off distrubution"
   ]
  },
  {
   "cell_type": "code",
   "execution_count": 3,
   "metadata": {
    "scrolled": false
   },
   "outputs": [
    {
     "name": "stdout",
     "output_type": "stream",
     "text": [
      "{3.5: 0.94, 6.5: 0.06}\n"
     ]
    },
    {
     "data": {
      "text/plain": [
       "([<matplotlib.axis.XTick at 0x7f736f3ec6d0>,\n",
       "  <matplotlib.axis.XTick at 0x7f736f3ec6a0>,\n",
       "  <matplotlib.axis.XTick at 0x7f736f5ab3a0>],\n",
       " [Text(1.0, 0, 'mainshell'),\n",
       "  Text(9.5, 0, 'topshell'),\n",
       "  Text(18.5, 0, 'insert_mold')])"
      ]
     },
     "execution_count": 3,
     "metadata": {},
     "output_type": "execute_result"
    },
    {
     "data": {
      "image/png": "[encoded data removed]",
      "text/plain": [
       "<Figure size 640x480 with 1 Axes>"
      ]
     },
     "metadata": {},
     "output_type": "display_data"
    }
   ],
   "source": [
    "import matplotlib.pyplot as plt\n",
    "%matplotlib inline\n",
    "\n",
    "plt.style.use('ggplot')\n",
    "print(Z_freq[0])\n",
    "\n",
    "colors = 'orange','blueviolet','deepskyblue'\n",
    "plt.figure(figsize=(8, 6), dpi=80, facecolor='white')\n",
    "plt.grid(False)\n",
    "plt.gca().set(title=\"Z_offset distribution\", ylabel=\"Frequency\")\n",
    "plt.rcParams['axes.facecolor']='snow'\n",
    "plt.ylim(top=1.1)\n",
    "\n",
    "for i in range(3):\n",
    "    shift = 0\n",
    "    for offset in Z_freq[i]:\n",
    "        x = i*8 + shift\n",
    "        plt.bar(x, Z_freq[i][offset], width=1.5, color=colors[i])\n",
    "        plt.text(x, Z_freq[i][offset]+0.02, offset, ha='center',fontsize=12)\n",
    "        shift += 1.5\n",
    "    # plt.bar(x+1, 1.2*np.sin(x),width=1)\n",
    "\n",
    "x_legend=[1, 9.5, 18.5]\n",
    "plt.xticks(x_legend, classes, fontsize=16)"
   ]
  },
  {
   "cell_type": "markdown",
   "metadata": {},
   "source": [
    "## Filter"
   ]
  },
  {
   "cell_type": "code",
   "execution_count": 27,
   "metadata": {},
   "outputs": [
    {
     "data": {
      "text/plain": [
       "100"
      ]
     },
     "execution_count": 27,
     "metadata": {},
     "output_type": "execute_result"
    }
   ],
   "source": [
    "len(R[0])\n",
    "## if Z== _\n",
    "## R.pop()"
   ]
  },
  {
   "cell_type": "markdown",
   "metadata": {},
   "source": [
    "## Rotation to euler angles"
   ]
  },
  {
   "cell_type": "code",
   "execution_count": 8,
   "metadata": {},
   "outputs": [
    {
     "name": "stdout",
     "output_type": "stream",
     "text": [
      "###################################\n",
      "[Pithc, Roll] angles for mainshell\n",
      "###################################\n",
      "[0. 0.] \t num = 52\n",
      "[180.   0.] \t num = 42\n",
      "[-90.   0.] \t num = 4\n",
      "[90.  0.] \t num = 2\n",
      "\n",
      "\n",
      "###################################\n",
      "[Pithc, Roll] angles for topshell\n",
      "###################################\n",
      "[0. 0.] \t num = 71\n",
      "[180.   0.] \t num = 20\n",
      "[-90.   0.] \t num = 4\n",
      "[91.  0.] \t num = 2\n",
      "[90.  0.] \t num = 2\n",
      "[148.   0.] \t num = 1\n",
      "\n",
      "\n",
      "###################################\n",
      "[Pithc, Roll] angles for insert_mold\n",
      "###################################\n",
      "[0. 0.] \t num = 62\n",
      "[156.   0.] \t num = 33\n",
      "[-90.   0.] \t num = 1\n",
      "[127.  71.] \t num = 2\n",
      "[-146.    0.] \t num = 2\n",
      "\n",
      "\n"
     ]
    }
   ],
   "source": [
    "# Ref: https://learnopencv.com/rotation-matrix-to-euler-angles/\n",
    "# Same method as MATLAB’s `rotm2euler`\n",
    "def isRotationMatrix(R):\n",
    "    Rt = np.transpose(R)\n",
    "    shouldBeIdentity = np.dot(Rt, R)\n",
    "    I = np.identity(3, dtype = R.dtype)\n",
    "    n = np.linalg.norm(I - shouldBeIdentity)\n",
    "    \n",
    "    return n<1e-6\n",
    "    print(R)\n",
    "    print(Rt)\n",
    "\n",
    "def R2Euler(R):\n",
    "    assert(isRotationMatrix(R))\n",
    "    \n",
    "    sy = math.sqrt(R[0,0]*R[0,0] + R[1,0]*R[1,0])\n",
    "    singular = sy < 1e-6\n",
    "    \n",
    "    if not singular:\n",
    "        pitch_x = math.atan2(R[2,1], R[2,2])\n",
    "        roll_y  = math.atan2(-R[2,0], sy)\n",
    "        yaw_z   = math.atan2(R[1,0], R[0,0])\n",
    "    else:\n",
    "        pitch_x = math.atan2(-R[1,2], R[1,1])\n",
    "        roll_y = math.atan2(-R[2,0], sy)\n",
    "        yaw_z = 0\n",
    "    \n",
    "    pitch_x = round(math.degrees(pitch_x) ,0)\n",
    "    roll_y =round(math.degrees(roll_y) ,0)\n",
    "    yaw_z = round(math.degrees(yaw_z) ,1) \n",
    "\n",
    "    if abs(pitch_x)==0:\n",
    "        pitch_x = abs(pitch_x)\n",
    "    roll_y = abs(roll_y)\n",
    "\n",
    "    if abs(pitch_x)==180 and abs(roll_y)==0:\n",
    "        pitch_x = abs(pitch_x)\n",
    "\n",
    "    return np.array([pitch_x, roll_y, yaw_z])\n",
    "\n",
    "np.set_printoptions(suppress=True)\n",
    "\n",
    "\n",
    "\n",
    "Euler_set = []\n",
    "for Rot in R:\n",
    "    poses = [] \n",
    "    for pose in Rot:\n",
    "        poses.append(R2Euler(pose))\n",
    "    Euler_set.append(poses)\n",
    "\n",
    "Euler_dics = []\n",
    "for Eulers in Euler_set:\n",
    "    temp_dic = {}\n",
    "    for Euler in Eulers:\n",
    "        Euler = str(Euler[:2])\n",
    "        temp_dic[Euler] = temp_dic.get(Euler, 0) + 1\n",
    "    Euler_dics.append(temp_dic)\n",
    "\n",
    "for i in range(len(Euler_dics)):\n",
    "    print('#'*35)\n",
    "    print(f'[Pithc, Roll] angles for {classes[i]}')\n",
    "    print('#'*35)\n",
    "    for pose,num in Euler_dics[i].items():\n",
    "        print(pose, '\\t num =', num)\n",
    "    print('\\n')"
   ]
  },
  {
   "cell_type": "code",
   "execution_count": 30,
   "metadata": {},
   "outputs": [
    {
     "name": "stdout",
     "output_type": "stream",
     "text": [
      "[[-0.15622975 -0.88914251 -0.43013698]\n",
      " [-0.28804117 -0.37554249  0.88090867]\n",
      " [-0.9447881   0.26152131 -0.19743875]]\n",
      "[ 127.1   70.9 -118.5]\n",
      "[[ 0.55952346 -0.68801129  0.46214068]\n",
      " [-0.82881451 -0.46450207  0.31193638]\n",
      " [ 0.00004956 -0.55756462 -0.83013356]]\n",
      "[-146.1   -0.   -56. ]\n"
     ]
    }
   ],
   "source": [
    "print(R[2][74])\n",
    "print(R2Euler(R[2][74]))\n",
    "print(R[2][89])\n",
    "print(R2Euler(R[2][89]))"
   ]
  },
  {
   "cell_type": "code",
   "execution_count": 6,
   "metadata": {},
   "outputs": [
    {
     "data": {
      "text/plain": [
       "2.0"
      ]
     },
     "execution_count": 6,
     "metadata": {},
     "output_type": "execute_result"
    }
   ],
   "source": [
    "round(1.9, 0)"
   ]
  }
 ],
 "metadata": {
  "kernelspec": {
   "display_name": "Python 3 (ipykernel)",
   "language": "python",
   "name": "python3"
  },
  "language_info": {
   "codemirror_mode": {
    "name": "ipython",
    "version": 3
   },
   "file_extension": ".py",
   "mimetype": "text/x-python",
   "name": "python",
   "nbconvert_exporter": "python",
   "pygments_lexer": "ipython3",
   "version": "3.10.0"
  },
  "vscode": {
   "interpreter": {
    "hash": "b2f8e464c7128081c983d98000685066e823f2e6fe63e5b6b2fbeb31fc313ef7"
   }
  }
 },
 "nbformat": 4,
 "nbformat_minor": 2
}
