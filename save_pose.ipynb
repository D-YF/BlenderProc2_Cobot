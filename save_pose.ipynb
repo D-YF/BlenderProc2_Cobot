{
 "cells": [
  {
   "cell_type": "code",
   "execution_count": null,
   "metadata": {},
   "outputs": [],
   "source": [
    "import blenderproc as bproc\n",
    "import argparse\n",
    "import numpy as np\n",
    "import bpy\n",
    "import time\n",
    "\n",
    "from pathlib import Path"
   ]
  }
 ],
 "metadata": {
  "language_info": {
   "name": "python"
  },
  "orig_nbformat": 4
 },
 "nbformat": 4,
 "nbformat_minor": 2
}
