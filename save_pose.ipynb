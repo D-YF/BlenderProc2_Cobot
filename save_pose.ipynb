{
 "cells": [
  {
   "cell_type": "code",
   "execution_count": 2,
   "metadata": {},
   "outputs": [],
   "source": [
    "import blenderproc as bproc\n",
    "import argparse\n",
    "import numpy as np\n",
    "import bpy\n",
    "import time\n",
    "\n",
    "from pathlib import Path"
   ]
  },
  {
   "cell_type": "code",
   "execution_count": 14,
   "metadata": {},
   "outputs": [
    {
     "name": "stdout",
     "output_type": "stream",
     "text": [
      "[[[-9.94812489e-01  1.01725891e-01 -2.30308888e-06]\n",
      "  [-1.01725891e-01 -9.94812489e-01 -2.59330409e-06]\n",
      "  [-2.55494774e-06 -2.34556751e-06  1.00000000e+00]]\n",
      "\n",
      " [[-7.37068594e-01 -6.75817966e-01 -1.42762028e-05]\n",
      "  [-6.75817966e-01  7.37068594e-01  2.35547832e-05]\n",
      "  [-5.39620441e-06  2.70096043e-05 -1.00000000e+00]]\n",
      "\n",
      " [[ 4.41901594e-01  8.97063553e-01 -6.71270163e-06]\n",
      "  [-8.97063553e-01  4.41901594e-01  4.27409441e-06]\n",
      "  [ 6.80048788e-06  4.13299085e-06  1.00000000e+00]]\n",
      "\n",
      " [[ 4.69777554e-01 -8.82784843e-01 -8.46604416e-06]\n",
      "  [-8.82784843e-01 -4.69777554e-01 -1.38482092e-05]\n",
      "  [ 8.24783092e-06  1.39792737e-05 -1.00000000e+00]]\n",
      "\n",
      " [[-9.91547465e-01 -1.29744336e-01  4.54920041e-07]\n",
      "  [ 1.29744336e-01 -9.91547465e-01  2.51322581e-06]\n",
      "  [ 1.24998024e-07  2.55100599e-06  1.00000000e+00]]\n",
      "\n",
      " [[-2.51273453e-01  1.34770617e-05 -9.67916131e-01]\n",
      "  [-9.67916131e-01 -3.23586792e-05  2.51273453e-01]\n",
      "  [-2.79340584e-05  1.00000000e+00  2.11755414e-05]]\n",
      "\n",
      " [[ 9.42077160e-01 -3.35396171e-01  7.11280208e-08]\n",
      "  [ 3.35396171e-01  9.42077160e-01 -3.70513192e-07]\n",
      "  [ 5.72606211e-08  3.72908090e-07  1.00000000e+00]]\n",
      "\n",
      " [[ 9.91741180e-01 -1.28255352e-01 -4.70852865e-05]\n",
      "  [-1.28255352e-01 -9.91741180e-01 -1.28145375e-05]\n",
      "  [-4.50528860e-05  1.87476453e-05 -1.00000000e+00]]\n",
      "\n",
      " [[ 1.42639220e-01 -9.89774764e-01  8.90503725e-05]\n",
      "  [ 9.89774764e-01  1.42639220e-01 -6.59438520e-05]\n",
      "  [ 5.25674841e-05  9.75459916e-05  1.00000000e+00]]\n",
      "\n",
      " [[ 9.46514010e-01  3.22662771e-01 -3.21152447e-06]\n",
      "  [-3.22662771e-01  9.46514010e-01  7.80144092e-06]\n",
      "  [ 5.55698716e-06 -6.34793332e-06  1.00000000e+00]]\n",
      "\n",
      " [[ 1.24531336e-01 -9.92215693e-01  7.59798968e-06]\n",
      "  [ 9.92215693e-01  1.24531336e-01 -4.62495700e-06]\n",
      "  [ 3.64276684e-06  8.11479640e-06  1.00000000e+00]]\n",
      "\n",
      " [[ 9.99934614e-01 -1.14362855e-02  1.14125680e-06]\n",
      "  [ 1.14362855e-02  9.99934614e-01 -1.01933365e-05]\n",
      "  [-1.02460831e-06  1.02057220e-05  1.00000000e+00]]\n",
      "\n",
      " [[-9.81569111e-01  1.91107631e-01  1.22782676e-05]\n",
      "  [-1.91107631e-01 -9.81569111e-01  1.13315373e-05]\n",
      "  [ 1.42175113e-05  8.77621642e-06  1.00000000e+00]]\n",
      "\n",
      " [[ 9.99531329e-01 -3.06115523e-02  2.62020467e-06]\n",
      "  [-3.06115523e-02 -9.99531329e-01  8.41938345e-06]\n",
      "  [ 2.36124629e-06 -8.49564640e-06 -1.00000000e+00]]\n",
      "\n",
      " [[ 6.11009538e-01 -7.91623235e-01  3.04893479e-06]\n",
      "  [ 7.91623235e-01  6.11009538e-01  3.31646470e-06]\n",
      "  [-4.48831861e-06  3.87216033e-07  1.00000000e+00]]\n",
      "\n",
      " [[-7.83466399e-01 -6.21434152e-01  3.47884293e-06]\n",
      "  [-6.21434152e-01  7.83466399e-01 -2.60829938e-06]\n",
      "  [-1.10467010e-06 -4.20538663e-06 -1.00000000e+00]]\n",
      "\n",
      " [[ 7.72468746e-01 -6.35052800e-01 -1.14817669e-06]\n",
      "  [ 6.35052800e-01  7.72468746e-01  4.30737316e-07]\n",
      "  [ 6.13389716e-07 -1.06188395e-06  1.00000000e+00]]\n",
      "\n",
      " [[ 1.64811134e-01  9.86325145e-01  8.83575467e-07]\n",
      "  [ 9.86325145e-01 -1.64811134e-01  1.47841786e-06]\n",
      "  [ 1.60382376e-06  6.27832947e-07 -1.00000000e+00]]\n",
      "\n",
      " [[ 5.65080404e-01  8.25035870e-01 -1.33465960e-06]\n",
      "  [ 8.25035870e-01 -5.65080404e-01 -2.21585788e-06]\n",
      "  [-2.58235218e-06  1.50995803e-07 -1.00000000e+00]]\n",
      "\n",
      " [[ 7.76442111e-01  6.30188584e-01 -2.16526973e-06]\n",
      "  [-6.30188584e-01  7.76442111e-01 -5.53239579e-06]\n",
      "  [-1.80524626e-06  5.66011340e-06  1.00000000e+00]]]\n",
      "[0.01349823 0.01349764 0.01349812 0.013498   0.013498   0.01653283\n",
      " 0.013498   0.01349776 0.01349788 0.01349788 0.013498   0.01349776\n",
      " 0.01349812 0.01349764 0.01349847 0.01349788 0.01349812 0.01349788\n",
      " 0.013498   0.013498  ]\n"
     ]
    }
   ],
   "source": [
    "loaded = np.load('./pose_exp/mainshell.npz')\n",
    "print(loaded['Rotation'])\n",
    "print(loaded['Z_offset'])"
   ]
  },
  {
   "cell_type": "code",
   "execution_count": 15,
   "metadata": {},
   "outputs": [
    {
     "name": "stdout",
     "output_type": "stream",
     "text": [
      "[[[-9.05272663e-01 -4.24830973e-01 -2.33764993e-04]\n",
      "  [ 4.24831003e-01 -9.05272365e-01 -7.45878380e-04]\n",
      "  [ 1.05251245e-04 -7.74533954e-04  9.99999702e-01]]\n",
      "\n",
      " [[-3.96279216e-01 -9.18129504e-01 -9.77324205e-04]\n",
      "  [ 9.18130040e-01 -3.96279126e-01 -3.07381648e-04]\n",
      "  [-1.05077030e-04 -1.01911963e-03  9.99999464e-01]]\n",
      "\n",
      " [[-9.85675037e-01 -1.68655589e-01  1.43382014e-04]\n",
      "  [-1.68655649e-01  9.85674739e-01 -7.32463552e-04]\n",
      "  [-1.77939710e-05 -7.46153237e-04 -9.99999702e-01]]\n",
      "\n",
      " [[ 1.02513224e-01  9.94731307e-01 -7.99261499e-04]\n",
      "  [ 9.94731665e-01 -1.02513246e-01  1.38348059e-05]\n",
      "  [-6.81729798e-05 -7.96468987e-04 -9.99999702e-01]]\n",
      "\n",
      " [[-4.70916450e-01  8.82177591e-01 -6.17421931e-04]\n",
      "  [ 8.82177830e-01  4.70916241e-01 -4.36511153e-04]\n",
      "  [-9.43263367e-05 -7.50236213e-04 -9.99999702e-01]]\n",
      "\n",
      " [[-2.92089224e-01 -9.56391037e-01 -2.02696363e-04]\n",
      "  [ 9.56391096e-01 -2.92089254e-01  3.10407922e-05]\n",
      "  [-8.88925642e-05 -1.84790319e-04  1.00000000e+00]]\n",
      "\n",
      " [[ 9.99732316e-01  2.31369231e-02  8.22752045e-05]\n",
      "  [-2.31369566e-02  9.99732196e-01  4.57481714e-04]\n",
      "  [-7.16684517e-05 -4.59262839e-04  9.99999881e-01]]\n",
      "\n",
      " [[-1.80115879e-01  9.83645141e-01 -7.35644368e-04]\n",
      "  [ 9.83645380e-01  1.80115804e-01 -1.79698560e-04]\n",
      "  [-4.42584314e-05 -7.55979796e-04 -9.99999702e-01]]\n",
      "\n",
      " [[ 5.75439632e-01 -8.17843974e-01 -6.94863440e-04]\n",
      "  [ 8.17844272e-01  5.75439513e-01  4.25352744e-04]\n",
      "  [ 5.19796849e-05 -8.13054852e-04  9.99999642e-01]]\n",
      "\n",
      " [[-6.28521562e-01  7.77791917e-01  6.28887094e-04]\n",
      "  [-7.77792156e-01 -6.28521502e-01 -3.63159517e-04]\n",
      "  [ 1.12806505e-04 -7.17397023e-04  9.99999762e-01]]\n",
      "\n",
      " [[-5.97302914e-01 -8.02015483e-01 -6.30474591e-04]\n",
      "  [ 8.02015722e-01 -5.97302735e-01 -4.81401948e-04]\n",
      "  [ 9.50761751e-06 -7.93193351e-04  9.99999702e-01]]\n",
      "\n",
      " [[-6.56326473e-01  7.54476905e-01  3.96648975e-04]\n",
      "  [-7.54476964e-01 -6.56326413e-01 -3.06396949e-04]\n",
      "  [ 2.91617962e-05 -5.00358990e-04  9.99999881e-01]]\n",
      "\n",
      " [[ 8.58250856e-01  5.13230264e-01  3.59699799e-04]\n",
      "  [-5.13230383e-01  8.58250558e-01  7.53883447e-04]\n",
      "  [ 7.82032439e-05 -8.31629965e-04  9.99999642e-01]]\n",
      "\n",
      " [[ 8.70583177e-01 -4.92021084e-01 -4.77159861e-04]\n",
      "  [ 4.92021292e-01  8.70582879e-01  6.84250379e-04]\n",
      "  [ 7.87415993e-05 -8.30469653e-04  9.99999642e-01]]\n",
      "\n",
      " [[ 9.84625280e-01 -1.74679697e-01 -3.19585524e-04]\n",
      "  [ 1.74679920e-01  9.84624863e-01  8.85033573e-04]\n",
      "  [ 1.60074458e-04 -9.27251589e-04  9.99999583e-01]]\n",
      "\n",
      " [[ 9.99701440e-01 -2.44337097e-02  4.39321921e-05]\n",
      "  [ 2.44336873e-02  9.99701381e-01  4.39788506e-04]\n",
      "  [-5.46647389e-05 -4.38583782e-04  9.99999881e-01]]\n",
      "\n",
      " [[-8.44103456e-01  5.36180079e-01  5.35385043e-04]\n",
      "  [-5.36180377e-01 -8.44103158e-01 -7.01695506e-04]\n",
      "  [ 7.56850204e-05 -8.79366533e-04  9.99999583e-01]]\n",
      "\n",
      " [[ 9.75127101e-01  2.21646354e-01  5.65885530e-05]\n",
      "  [-2.21646354e-01  9.75127101e-01  1.77250608e-04]\n",
      "  [-1.58940820e-05 -1.85384517e-04  1.00000000e+00]]\n",
      "\n",
      " [[-6.38572872e-01  7.69561112e-01  5.96868806e-04]\n",
      "  [-7.69561350e-01 -6.38572812e-01 -2.91979668e-04]\n",
      "  [ 1.56448004e-04 -6.45777443e-04  9.99999762e-01]]\n",
      "\n",
      " [[ 5.29486418e-01 -8.48318160e-01  6.61970640e-04]\n",
      "  [-8.48318398e-01 -5.29486179e-01  5.07140707e-04]\n",
      "  [-7.97123721e-05 -8.30085948e-04 -9.99999642e-01]]]\n",
      "[0.01419299 0.01419394 0.01416366 0.01416402 0.01416414 0.01419322\n",
      " 0.01419311 0.01416414 0.01419334 0.01419287 0.01419311 0.01419299\n",
      " 0.01419311 0.01419311 0.01419311 0.01419322 0.01419322 0.01419322\n",
      " 0.01419322 0.01416438]\n"
     ]
    }
   ],
   "source": [
    "loaded = np.load('./pose_exp/topshell.npz')\n",
    "print(loaded['Rotation'])\n",
    "print(loaded['Z_offset'])"
   ]
  },
  {
   "cell_type": "code",
   "execution_count": 16,
   "metadata": {},
   "outputs": [
    {
     "name": "stdout",
     "output_type": "stream",
     "text": [
      "[[[-1.13289893e-01  9.09723639e-01  3.99460047e-01]\n",
      "  [ 9.93551314e-01  1.01864487e-01  4.97941896e-02]\n",
      "  [ 4.60815709e-03  4.02525216e-01 -9.15397286e-01]]\n",
      "\n",
      " [[ 1.82127237e-01  8.99744451e-01  3.96597475e-01]\n",
      "  [ 9.83264625e-01 -1.68505192e-01 -6.92582503e-02]\n",
      "  [ 4.51400457e-03  4.02574062e-01 -9.15376306e-01]]\n",
      "\n",
      " [[-9.97569442e-01 -6.96784928e-02  2.53177510e-04]\n",
      "  [ 6.96786940e-02 -9.97569084e-01  8.77527578e-04]\n",
      "  [ 1.91417261e-04  8.93035787e-04  9.99999583e-01]]\n",
      "\n",
      " [[ 3.63320023e-01 -9.31664407e-01  9.69045213e-05]\n",
      "  [ 9.31664348e-01  3.63319993e-01 -2.82745255e-04]\n",
      "  [ 2.28216348e-04  1.93009517e-04  9.99999940e-01]]\n",
      "\n",
      " [[ 7.70567060e-01  5.82017779e-01  2.59772450e-01]\n",
      "  [ 6.37343168e-01 -7.06508636e-01 -3.07634950e-01]\n",
      "  [ 4.48247232e-03  4.02617544e-01 -9.15357292e-01]]\n",
      "\n",
      " [[ 3.85320842e-01  8.43994021e-01  3.73097718e-01]\n",
      "  [ 9.22771573e-01 -3.54398817e-01 -1.51307896e-01]\n",
      "  [ 4.52241255e-03  4.02586043e-01 -9.15371001e-01]]\n",
      "\n",
      " [[ 8.62825274e-01  5.05499661e-01 -1.60709815e-03]\n",
      "  [-5.05501926e-01  8.62823963e-01 -1.62596302e-03]\n",
      "  [ 5.64718968e-04  2.21531326e-03  9.99997377e-01]]\n",
      "\n",
      " [[-9.19796452e-02  9.95760441e-01 -9.32928990e-04]\n",
      "  [-9.95760798e-01 -9.19792503e-02  4.54788824e-04]\n",
      "  [ 3.67050612e-04  9.70805413e-04  9.99999464e-01]]\n",
      "\n",
      " [[ 9.99894083e-01 -1.44823780e-02 -1.45802065e-03]\n",
      "  [-1.38436584e-02 -9.15261209e-01 -4.02622968e-01]\n",
      "  [ 4.49646823e-03  4.02600497e-01 -9.15364742e-01]]\n",
      "\n",
      " [[-9.76391375e-01  1.99476659e-01  8.28787833e-02]\n",
      "  [ 2.15961024e-01  8.93389285e-01  3.93975109e-01]\n",
      "  [ 4.54582414e-03  4.02572513e-01 -9.15376842e-01]]\n",
      "\n",
      " [[ 8.86385679e-01 -4.62947488e-01 -1.89668077e-04]\n",
      "  [ 4.62947369e-01  8.86385679e-01 -4.45118494e-04]\n",
      "  [ 3.74185562e-04  3.06740316e-04  9.99999881e-01]]\n",
      "\n",
      " [[-2.23920122e-01  9.74607468e-01 -1.86376870e-04]\n",
      "  [-9.74607468e-01 -2.23920077e-01  2.45598494e-04]\n",
      "  [ 1.97628615e-04  2.36638749e-04  9.99999940e-01]]\n",
      "\n",
      " [[-7.68528044e-01 -5.84262609e-01 -2.60771602e-01]\n",
      "  [-6.39799535e-01  7.04713643e-01  3.06651592e-01]\n",
      "  [ 4.60423576e-03  4.02511895e-01 -9.15403187e-01]]\n",
      "\n",
      " [[ 1.60506777e-02 -9.99871194e-01  4.42765995e-05]\n",
      "  [ 9.99871194e-01  1.60506722e-02 -1.43274257e-04]\n",
      "  [ 1.42545134e-04  4.65705452e-05  1.00000000e+00]]\n",
      "\n",
      " [[-9.20858085e-01  3.58563304e-01  1.53142884e-01]\n",
      "  [ 3.89871657e-01  8.42235684e-01  3.72342736e-01]\n",
      "  [ 4.52603539e-03  4.02580887e-01 -9.15373206e-01]]\n",
      "\n",
      " [[-1.15522951e-01 -9.93304133e-01  1.13814860e-03]\n",
      "  [ 9.93304670e-01 -1.15523405e-01 -3.44054861e-04]\n",
      "  [ 4.73233929e-04  1.09078211e-03  9.99999285e-01]]\n",
      "\n",
      " [[-4.32151139e-01 -8.24702978e-01 -3.64842981e-01]\n",
      "  [-9.01789486e-01  3.97260189e-01  1.70176461e-01]\n",
      "  [ 4.59255371e-03  4.02553499e-01 -9.15384948e-01]]\n",
      "\n",
      " [[-9.38572884e-01 -3.45080674e-01  5.26966876e-04]\n",
      "  [ 3.45080763e-01 -9.38573003e-01  1.10457877e-04]\n",
      "  [ 4.56479989e-04  2.85518909e-04  9.99999881e-01]]\n",
      "\n",
      " [[ 2.41635323e-01  9.70366001e-01 -1.48026738e-03]\n",
      "  [-9.70366895e-01  2.41636083e-01  3.54605116e-04]\n",
      "  [ 7.01782759e-04  1.35071739e-03  9.99998868e-01]]\n",
      "\n",
      " [[ 7.33874023e-01  6.79285288e-01 -6.38369413e-04]\n",
      "  [-6.79285467e-01  7.33874142e-01 -1.30294284e-04]\n",
      "  [ 3.79975827e-04  5.29254670e-04  9.99999762e-01]]]\n",
      "[0.01326244 0.01326256 0.01407211 0.0140727  0.01326244 0.01326256\n",
      " 0.01407104 0.01407211 0.01326268 0.01326256 0.01407259 0.01407259\n",
      " 0.01326256 0.0140727  0.01326244 0.01407187 0.01326232 0.01407259\n",
      " 0.01407187 0.01407223]\n"
     ]
    }
   ],
   "source": [
    "loaded = np.load('./pose_exp/insert_mold.npz')\n",
    "print(loaded['Rotation'])\n",
    "print(loaded['Z_offset'])"
   ]
  },
  {
   "cell_type": "code",
   "execution_count": 59,
   "metadata": {},
   "outputs": [
    {
     "name": "stdout",
     "output_type": "stream",
     "text": [
      "mainshell frequency dic is  {0.0135: 0.95, 0.01653: 0.05}\n",
      "mainshell Min Z value =  0.0135\n",
      "mainshell Max Z value =  0.01653 \n",
      "\n",
      "topshell frequency dic is  {0.01419: 0.75, 0.01416: 0.25}\n",
      "topshell Min Z value =  0.01416\n",
      "topshell Max Z value =  0.01419 \n",
      "\n",
      "insert_mold frequency dic is  {0.01326: 0.45, 0.01407: 0.55}\n",
      "insert_mold Min Z value =  0.01326\n",
      "insert_mold Max Z value =  0.01407 \n",
      "\n"
     ]
    }
   ],
   "source": [
    "classes = ['mainshell', 'topshell', 'insert_mold']\n",
    "\n",
    "R = []\n",
    "Z = []\n",
    "Z_freq = []\n",
    "for catogory in classes:\n",
    "    loaded = np.load(f\"./pose_tmp/{catogory}.npz\")\n",
    "    R_temp = loaded['Rotation']\n",
    "    Z_temp = loaded['Z_offset'].round(5)\n",
    "    R.append(R_temp)\n",
    "    Z.append(Z_temp)\n",
    "    ## TODO(yangfei) Z_off - Thickness_of_tagboard\n",
    "\n",
    "    Z_freq_temp = {}\n",
    "    for item in Z_temp:\n",
    "        Z_freq_temp[item] = Z_freq_temp.get(item, 0) + 1\n",
    "    \n",
    "    total = sum(Z_freq_temp.values())\n",
    "    for key, value in Z_freq_temp.items():\n",
    "        Z_freq_temp[key] = round((Z_freq_temp[key] / total), 2)\n",
    "    Z_freq.append(Z_freq_temp)\n",
    "    \n",
    "    \n",
    "    print(f\"{catogory} frequency dic is \", Z_freq[-1])\n",
    "    print(f\"{catogory} Min Z value = \", Z_temp.min())\n",
    "    print(f\"{catogory} Max Z value = \", Z_temp.max(), '\\n')\n"
   ]
  },
  {
   "cell_type": "code",
   "execution_count": 50,
   "metadata": {
    "scrolled": true
   },
   "outputs": [
    {
     "data": {
      "text/plain": [
       "[{0.01326: 9, 0.01407: 11},\n",
       " {0.01326: 9, 0.01407: 11},\n",
       " {0.01326: 9, 0.01407: 11}]"
      ]
     },
     "execution_count": 50,
     "metadata": {},
     "output_type": "execute_result"
    }
   ],
   "source": [
    "Z_freq"
   ]
  },
  {
   "cell_type": "code",
   "execution_count": 41,
   "metadata": {},
   "outputs": [
    {
     "data": {
      "text/plain": [
       "[Text(0.5, 1.0, 'Frequency Histogram'), Text(0, 0.5, 'Frequency')]"
      ]
     },
     "execution_count": 41,
     "metadata": {},
     "output_type": "execute_result"
    },
    {
     "data": {
      "image/png": "[encoded data removed]",
      "text/plain": [
       "<Figure size 432x288 with 1 Axes>"
      ]
     },
     "metadata": {
      "needs_background": "light"
     },
     "output_type": "display_data"
    }
   ],
   "source": [
    "import matplotlib.pyplot as plt\n",
    "%matplotlib inline\n",
    "\n",
    "plt.hist(Z_insert, bins=10)\n",
    "plt.gca().set(title='Frequency Histogram', ylabel='Frequency')"
   ]
  },
  {
   "cell_type": "code",
   "execution_count": null,
   "metadata": {},
   "outputs": [],
   "source": []
  }
 ],
 "metadata": {
  "kernelspec": {
   "display_name": "Python 3 (ipykernel)",
   "language": "python",
   "name": "python3"
  },
  "language_info": {
   "codemirror_mode": {
    "name": "ipython",
    "version": 3
   },
   "file_extension": ".py",
   "mimetype": "text/x-python",
   "name": "python",
   "nbconvert_exporter": "python",
   "pygments_lexer": "ipython3",
   "version": "3.10.0"
  },
  "vscode": {
   "interpreter": {
    "hash": "b2f8e464c7128081c983d98000685066e823f2e6fe63e5b6b2fbeb31fc313ef7"
   }
  }
 },
 "nbformat": 4,
 "nbformat_minor": 2
}
